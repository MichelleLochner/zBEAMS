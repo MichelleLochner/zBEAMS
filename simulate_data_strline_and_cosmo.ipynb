{
 "cells": [
  {
   "cell_type": "code",
   "execution_count": 1,
   "metadata": {
    "collapsed": true
   },
   "outputs": [],
   "source": [
    "'''\n",
    "Zé Fonseca\n",
    "\n",
    "620/02/16\n",
    "\n",
    "Simulate data for a y=mx+c model and a cosmological model. \n",
    "Data is drawn from a gaussian distribution.\n",
    "'''\n",
    "\n",
    "import numpy as np\n",
    "import scipy as sp\n",
    "from scipy.integrate import quad\n",
    "import matplotlib.pyplot as plt\n",
    "from scipy.interpolate import splrep, splev\n",
    "%matplotlib inline\n",
    "import time\n",
    "import matplotlib.gridspec as gridspec\n"
   ]
  },
  {
   "cell_type": "markdown",
   "metadata": {},
   "source": [
    "## Straight line\n",
    "\n",
    "Details:\n",
    "* N=10;\n",
    "* $y=mx+c$ with fiducial $m=c=1$\n",
    "* Errors: $\\sigma_x=0.01(1+x)$, $\\sigma_y=0.005$\n",
    "* gaussian distribution from which we draw x: $x_c=0.5$, $\\sigma_{x_c}=0.25$"
   ]
  },
  {
   "cell_type": "code",
   "execution_count": 2,
   "metadata": {
    "collapsed": true
   },
   "outputs": [],
   "source": [
    "#functions\n",
    "#general functions\n",
    "\n",
    "def func(x,m=1,c=1):\n",
    "    return m*x+c\n",
    "\n",
    "#class for fake data. Only reason to use class is because this is a copy of another iPython Notebook\n",
    "\n",
    "class str_line:\n",
    "    def __init__(self,name,N=10,m=1,c=1,sig_y=0.005,sig_x_per=0.01,xc=0.5,sig_xc=0.25):\n",
    "        #parameters used\n",
    "        self.N=N\n",
    "        x=np.random.randn(N)*sig_xc+xc\n",
    "        x.sort()\n",
    "        self.x=x\n",
    "        self.y=m*self.x+c\n",
    "        self.y_obs=self.y+np.random.randn(N)*sig_y\n",
    "        self.x_obs=x+np.random.randn(N)*sig_x_per*(1+x)\n",
    "        self.sig_y=sig_y\n",
    "        self.sig_x_per=sig_x_per\n",
    "        self.xc=xc\n",
    "        self.sig_xc=sig_xc\n",
    "        self.dataset=name"
   ]
  },
  {
   "cell_type": "code",
   "execution_count": 3,
   "metadata": {
    "collapsed": false
   },
   "outputs": [],
   "source": [
    "def save_data_str(data):\n",
    "\n",
    "    np.savetxt('general_datasets/data_'+data.dataset+'.txt',np.c_[data.x_obs,data.y_obs,data.x],fmt='%2.3f',\\\n",
    "           header='\\n'.join([\"Drawn from gaussian with x_c=%.1f and sig_xc=%.2f\" %(data.xc,data.sig_xc),\\\n",
    "                             \"Error in x %.3f (1+x), error in y %.3f \" %(data.sig_x_per,data.sig_y),\\\n",
    "                             \"%.0f data points\" %data.N,\n",
    "                             \"x_obs  y_obs  x_true\"]))\n",
    "\n",
    "datasets_str={}\n",
    "name_str=[]\n",
    "for i in range(5):\n",
    "    name_str.append('str_line_'+str(i+1))\n",
    "    data=str_line(name_str[i])\n",
    "    datasets_str[name_str[i]]=data\n",
    "    save_data_str(data) "
   ]
  },
  {
   "cell_type": "code",
   "execution_count": 4,
   "metadata": {
    "collapsed": false
   },
   "outputs": [
    {
     "data": {
      "image/png": "[encoded data removed]",
      "text/plain": [
       "<matplotlib.figure.Figure at 0x10d706240>"
      ]
     },
     "metadata": {},
     "output_type": "display_data"
    }
   ],
   "source": [
    "colors=['k','b','r','m','g']\n",
    "for i in range(5):\n",
    "    plt.plot(datasets_str[name_str[i]].x_obs,datasets_str[name_str[i]].y_obs,colors[i]+'o')\n",
    "\n",
    "plt.xlabel(r'$x$')\n",
    "plt.ylabel(r'$y$')\n",
    "plt.show()"
   ]
  },
  {
   "cell_type": "markdown",
   "metadata": {},
   "source": [
    "## Cosmological Data\n",
    "\n",
    "Details:\n",
    "* N=10;\n",
    "* $\\mu=5\\log(D_L(\\Omega_M,H_0,w)/{\\rm Mpc})+25$ with fiducial $\\Omega_M=0.31$, $H_0=67.74$, $w=-1$ (Neglect units)\n",
    "* Errors: $\\sigma_z=0.01(1+z)$, $\\sigma_\\mu=0.01$\n",
    "* gaussian distribution from which we draw z: $z_c=0.5$, $\\sigma_{z_c}=0.1$"
   ]
  },
  {
   "cell_type": "code",
   "execution_count": 5,
   "metadata": {
    "collapsed": false
   },
   "outputs": [],
   "source": [
    "#cosmological functions\n",
    "#general functions\n",
    "def invH(z,OM,w):\n",
    "    return (OM*(1+z)**3+(1-OM)*(1+z)**(3*(w+1)))**(-.5)\n",
    "\n",
    "c=2.99792e5\n",
    "\n",
    "def mu(z,OM,H0,w):\n",
    "    if type(z)=='float' or type(z)=='int':\n",
    "        return 5*np.log10((1+z)/H0*c*quad(invH,0,z,args=(OM,w))[0])+25\n",
    "    else:\n",
    "        dl=[]\n",
    "        for i in range(len(z)):\n",
    "            dl.append(quad(invH,0,z[i],args=(OM,w))[0])\n",
    "        return 5*np.log10(np.array(dl)*(1+z)*c/H0)+25\n",
    "\n",
    "#class fake data with all the cases.\n",
    "\n",
    "class cosmo_dat:\n",
    "    def __init__(self,name,N=10,OM=0.31,H0=67.74,w=-1,zc=0.5,sig_zc=0.1,sig_mu=0.01,sig_z_per=0.01):\n",
    "        #parameters used\n",
    "        self.N=N\n",
    "        self.OM=OM\n",
    "        self.H0=H0\n",
    "        self.w=w\n",
    "        self.dataset=name\n",
    "        \n",
    "        #get redshifts\n",
    "        z=np.random.randn(N)*sig_zc+zc\n",
    "        z.sort()\n",
    "        self.z=z\n",
    "        self.zc=zc\n",
    "        self.sig_zc=sig_zc\n",
    "        \n",
    "        #get magnitudes\n",
    "        mu_t=mu(z,OM,H0,w)\n",
    "        mu_obs=mu_t+np.random.randn(N)*sig_mu\n",
    "        self.mu_t=mu_t\n",
    "        self.mu_obs=mu_obs\n",
    "        self.sig_mu=sig_mu\n",
    "        \n",
    "        #get observed redshifts\n",
    "        z_obs=z+np.random.randn(N)*sig_z_per*(1+z)\n",
    "        self.z_obs=z_obs\n",
    "        self.sig_z_per=sig_z_per"
   ]
  },
  {
   "cell_type": "code",
   "execution_count": 6,
   "metadata": {
    "collapsed": false
   },
   "outputs": [],
   "source": [
    "def save_data_cosmo(data):\n",
    "\n",
    "    np.savetxt('general_datasets/data_'+data.dataset+'.txt',np.c_[data.z_obs,data.mu_obs,data.z],fmt='%2.3f',\\\n",
    "           header='\\n'.join([\"Drawn from gaussian with z_c=%.1f and sig_zc=%.2f\" %(data.zc,data.sig_zc),\\\n",
    "                             \"Error in z %.3f (1+z), error in mu %.3f \" %(data.sig_z_per,data.sig_mu),\\\n",
    "                             \"%.0f data points\" %data.N,\n",
    "                             \"z_obs  mu_obs  z_true\"]))\n",
    "\n",
    "datasets_cosmo={}\n",
    "name_cosmo=[]\n",
    "for i in range(5):\n",
    "    name_cosmo.append('cosmoSNe_'+str(i+1))\n",
    "    data=cosmo_dat(name_cosmo[i])\n",
    "    datasets_cosmo[name_cosmo[i]]=data\n",
    "    save_data_cosmo(data) "
   ]
  },
  {
   "cell_type": "code",
   "execution_count": 7,
   "metadata": {
    "collapsed": false
   },
   "outputs": [
    {
     "data": {
      "image/png": "[encoded data removed]",
      "text/plain": [
       "<matplotlib.figure.Figure at 0x10d7ef160>"
      ]
     },
     "metadata": {},
     "output_type": "display_data"
    }
   ],
   "source": [
    "for i in range(5):\n",
    "    plt.plot(datasets_cosmo[name_cosmo[i]].z_obs,datasets_cosmo[name_cosmo[i]].mu_obs,colors[i]+'o')\n",
    "\n",
    "plt.xlabel(r'$z$')\n",
    "plt.ylabel(r'$\\mu$')\n",
    "plt.show()"
   ]
  },
  {
   "cell_type": "code",
   "execution_count": null,
   "metadata": {
    "collapsed": true
   },
   "outputs": [],
   "source": []
  }
 ],
 "metadata": {
  "kernelspec": {
   "display_name": "Python 3",
   "language": "python",
   "name": "python3"
  },
  "language_info": {
   "codemirror_mode": {
    "name": "ipython",
    "version": 3
   },
   "file_extension": ".py",
   "mimetype": "text/x-python",
   "name": "python",
   "nbconvert_exporter": "python",
   "pygments_lexer": "ipython3",
   "version": "3.5.1"
  }
 },
 "nbformat": 4,
 "nbformat_minor": 0
}
