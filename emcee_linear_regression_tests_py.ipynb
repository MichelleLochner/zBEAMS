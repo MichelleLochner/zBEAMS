{
 "cells": [
  {
   "cell_type": "markdown",
   "metadata": {},
   "source": [
    "<h1>Linear Regression tests with emcee</h1>"
   ]
  },
  {
   "cell_type": "code",
   "execution_count": 1,
   "metadata": {
    "collapsed": false
   },
   "outputs": [],
   "source": [
    "import numpy as np\n",
    "import matplotlib.pyplot as plt\n",
    "from chain_analysis import contour_plot, gelman_rubin\n",
    "import emcee\n",
    "\n",
    "plt.rcParams['figure.figsize']=(7,6)\n",
    "plt.style.use('seaborn-whitegrid')"
   ]
  },
  {
   "cell_type": "markdown",
   "metadata": {},
   "source": [
    "<h2>I. Y = mX</h2>"
   ]
  },
  {
   "cell_type": "code",
   "execution_count": 2,
   "metadata": {
    "collapsed": false
   },
   "outputs": [
    {
     "name": "stdout",
     "output_type": "stream",
     "text": [
      "m = 0.7893211646311447\n"
     ]
    },
    {
     "data": {
      "image/png": "[encoded data removed]",
      "text/plain": [
       "<matplotlib.figure.Figure at 0x107643278>"
      ]
     },
     "metadata": {},
     "output_type": "display_data"
    }
   ],
   "source": [
    "# generating a random single point and \"m\"\n",
    "x = 2.0*np.random.rand()+5.0\n",
    "m = np.random.rand()\n",
    "y = m*x\n",
    "\n",
    "print('m = {}'.format(m))\n",
    "_=plt.errorbar(x,y,xerr=np.ones_like(x),yerr=np.ones_like(y),ls='')\n",
    "_=plt.xlim(-1.0,10.0)\n",
    "_=plt.ylim(-1.0,10.0)"
   ]
  },
  {
   "cell_type": "markdown",
   "metadata": {},
   "source": [
    "<h3>I.a. Considering error along y-axis only</h3>"
   ]
  },
  {
   "cell_type": "code",
   "execution_count": 3,
   "metadata": {
    "collapsed": true
   },
   "outputs": [],
   "source": [
    "### Log Likelihood ###\n",
    "\n",
    "def lnlkl(p, x, y):\n",
    "    y_model = p*x\n",
    "    return -0.5 * (np.power(y-y_model,2) + np.log(2*np.pi))"
   ]
  },
  {
   "cell_type": "code",
   "execution_count": 4,
   "metadata": {
    "collapsed": true
   },
   "outputs": [],
   "source": [
    "### Log Prior ###\n",
    "# Using flat priors for m (just to bound the posterior)\n",
    "\n",
    "def lnprior_m(m):\n",
    "    if -5.0 < m < 5.0:\n",
    "        return 0.0\n",
    "    return -np.inf"
   ]
  },
  {
   "cell_type": "code",
   "execution_count": 5,
   "metadata": {
    "collapsed": true
   },
   "outputs": [],
   "source": [
    "### Log Probability ###\n",
    "\n",
    "def lnprob(p, x, y):\n",
    "    lpm = lnprior_m(p)\n",
    "    if not np.isfinite(lpm):\n",
    "        return -np.inf\n",
    "    return lpm + lnlkl(p, x, y)"
   ]
  },
  {
   "cell_type": "code",
   "execution_count": 6,
   "metadata": {
    "collapsed": true
   },
   "outputs": [],
   "source": [
    "### Ensemble Method ###\n",
    "n_walker=50\n",
    "n_steps=2000\n",
    "ndim=1\n",
    "\n",
    "# Wakers initial positions\n",
    "pos0 = np.c_[np.random.rand(n_walker)-0.5]\n",
    "\n",
    "sampler_Ey = emcee.EnsembleSampler(n_walker, ndim, lnprob,args=(x,y))\n",
    "pos,_,_=sampler_Ey.run_mcmc(pos0 = pos0 , N=100)\n",
    "sampler_Ey.reset()\n",
    "_=sampler_Ey.run_mcmc(pos0 = pos , N=n_steps)"
   ]
  },
  {
   "cell_type": "code",
   "execution_count": 7,
   "metadata": {
    "collapsed": false
   },
   "outputs": [
    {
     "data": {
      "text/plain": [
       "(-0.4106788353688553, 1.9893211646311446)"
      ]
     },
     "execution_count": 7,
     "metadata": {},
     "output_type": "execute_result"
    },
    {
     "data": {
      "image/png": "[encoded data removed]",
      "text/plain": [
       "<matplotlib.figure.Figure at 0x107835e80>"
      ]
     },
     "metadata": {},
     "output_type": "display_data"
    }
   ],
   "source": [
    "_=plt.hist(sampler_Ey.chain[:,:,:].ravel(),bins=np.linspace(m-1.2,m+1.2,31),histtype='stepfilled',normed=True)\n",
    "plt.axvline(m,color='k')\n",
    "plt.xlim(m-1.2,m+1.2)"
   ]
  },
  {
   "cell_type": "markdown",
   "metadata": {},
   "source": [
    "<h3>Considering errors along both axis</h3>"
   ]
  },
  {
   "cell_type": "code",
   "execution_count": 8,
   "metadata": {
    "collapsed": true
   },
   "outputs": [],
   "source": [
    "### Log Likelihood ###\n",
    "\n",
    "def lnlkl(p, x, y):\n",
    "    y_model = p*x\n",
    "    return -0.5 * (np.divide(np.power(y-y_model,2), (1+p**2)) + np.log(2*np.pi*(1+p**2)))\n",
    "\n",
    "def lnprob(p, x, y):\n",
    "    lpm = lnprior_m(p)\n",
    "    if not np.isfinite(lpm):\n",
    "        return -np.inf\n",
    "    return lnlkl(p, x, y)"
   ]
  },
  {
   "cell_type": "code",
   "execution_count": 9,
   "metadata": {
    "collapsed": true
   },
   "outputs": [],
   "source": [
    "### Ensemble Method ###\n",
    "n_walker=50\n",
    "n_steps=2000\n",
    "ndim=1\n",
    "\n",
    "# Wakers initial positions\n",
    "pos0 = np.c_[np.random.rand(n_walker)-0.5]\n",
    "\n",
    "sampler_Exy = emcee.EnsembleSampler(n_walker, ndim, lnprob, args=(x,y))\n",
    "pos,_,_=sampler_Exy.run_mcmc(pos0 = pos0 , N=100)\n",
    "sampler_Exy.reset()\n",
    "_=sampler_Exy.run_mcmc(pos0 = pos , N=n_steps)"
   ]
  },
  {
   "cell_type": "code",
   "execution_count": 10,
   "metadata": {
    "collapsed": false
   },
   "outputs": [
    {
     "data": {
      "text/plain": [
       "<matplotlib.text.Text at 0x107ae19b0>"
      ]
     },
     "execution_count": 10,
     "metadata": {},
     "output_type": "execute_result"
    },
    {
     "data": {
      "image/png": "[encoded data removed]",
      "text/plain": [
       "<matplotlib.figure.Figure at 0x107a1c128>"
      ]
     },
     "metadata": {},
     "output_type": "display_data"
    }
   ],
   "source": [
    "_=plt.hist(sampler_Ey.chain[:,:,:].ravel(),bins=np.linspace(m-1.2,m+1.2,31),histtype='step',color='b',normed=True)\n",
    "_=plt.hist(sampler_Exy.chain[:,:,:].ravel(),bins=np.linspace(m-1.2,m+1.2,31),histtype='step',color='g',normed=True)\n",
    "plt.legend(('Error along Y','Errors in both directions'))\n",
    "plt.axvline(m,color='k')\n",
    "plt.title('Y=mX - m chains from Ensemble Method')\n",
    "#plt.savefig('ymx_emcee_test.png')"
   ]
  },
  {
   "cell_type": "markdown",
   "metadata": {},
   "source": [
    "<h2>II. Y = mX+p</h2>"
   ]
  },
  {
   "cell_type": "code",
   "execution_count": 12,
   "metadata": {
    "collapsed": false
   },
   "outputs": [
    {
     "name": "stdout",
     "output_type": "stream",
     "text": [
      "m = 0.7692827418070343 and p = 0.2124274727191977\n"
     ]
    },
    {
     "data": {
      "text/plain": [
       "[<matplotlib.lines.Line2D at 0x107f835c0>]"
      ]
     },
     "execution_count": 12,
     "metadata": {},
     "output_type": "execute_result"
    },
    {
     "data": {
      "image/png": "[encoded data removed]",
      "text/plain": [
       "<matplotlib.figure.Figure at 0x107f837b8>"
      ]
     },
     "metadata": {},
     "output_type": "display_data"
    }
   ],
   "source": [
    "# generating easy data\n",
    "x = np.arange(10) + 2.0*(np.random.rand(10)-0.5)\n",
    "m = 2.0*(np.random.rand()-0.5)\n",
    "p = 2.0*(np.random.rand()-0.5)\n",
    "y = m*x + p + (np.random.rand(10)-0.5)\n",
    "\n",
    "print('m = {} and p = {}'.format(m,p))\n",
    "_=plt.errorbar(x,y,xerr=np.ones_like(x),yerr=np.ones_like(y),marker='d',ls='')\n",
    "plt.plot(np.arange(11),m*np.arange(11)+p)"
   ]
  },
  {
   "cell_type": "markdown",
   "metadata": {},
   "source": [
    "<h3>II.a. Considering error along y-axis only</h3>"
   ]
  },
  {
   "cell_type": "code",
   "execution_count": 13,
   "metadata": {
    "collapsed": true
   },
   "outputs": [],
   "source": [
    "### Log Likelihood ###\n",
    "\n",
    "def lnlkl(p, x, y):\n",
    "    y_model = p[0]*x + p[1]\n",
    "    return -0.5 * np.nansum(np.power(y-y_model,2) + np.log(2*np.pi))"
   ]
  },
  {
   "cell_type": "code",
   "execution_count": 14,
   "metadata": {
    "collapsed": true
   },
   "outputs": [],
   "source": [
    "### Log Prior ###\n",
    "# Using flat priors for m (just to bound the posterior)\n",
    "\n",
    "def lnprior_m(m):\n",
    "    if -5.0 < m < 5.0:\n",
    "        return 0.0\n",
    "    return -np.inf\n",
    "\n",
    "def lnprior_p(p):\n",
    "    if -5.0 < p < 5.0:\n",
    "        return 0.0\n",
    "    return -np.inf"
   ]
  },
  {
   "cell_type": "code",
   "execution_count": 15,
   "metadata": {
    "collapsed": true
   },
   "outputs": [],
   "source": [
    "### Log Probability ###\n",
    "\n",
    "def lnprob(p, x, y):\n",
    "    lpm = lnprior_m(p[0])\n",
    "    lpp = lnprior_p(p[1])\n",
    "    if not np.isfinite(lpm) or not np.isfinite(lpp):\n",
    "        return -np.inf\n",
    "    return lpm + lpp + lnlkl(p, x, y)"
   ]
  },
  {
   "cell_type": "code",
   "execution_count": 16,
   "metadata": {
    "collapsed": false
   },
   "outputs": [],
   "source": [
    "### Ensemble Method ###\n",
    "n_walker=50\n",
    "n_steps=2000\n",
    "ndim=2\n",
    "\n",
    "# Wakers initial positions\n",
    "pos0 = np.c_[np.random.rand(n_walker)-0.5,np.random.rand(n_walker)-0.5]\n",
    "\n",
    "sampler_Ey = emcee.EnsembleSampler(n_walker, ndim, lnprob, args=(x,y))\n",
    "pos,_,_=sampler_Ey.run_mcmc(pos0 = pos0 , N=100)\n",
    "sampler_Ey.reset()\n",
    "_=sampler_Ey.run_mcmc(pos0 = pos , N=n_steps)"
   ]
  },
  {
   "cell_type": "code",
   "execution_count": 17,
   "metadata": {
    "collapsed": false
   },
   "outputs": [
    {
     "data": {
      "text/plain": [
       "[<matplotlib.lines.Line2D at 0x107f832b0>]"
      ]
     },
     "execution_count": 17,
     "metadata": {},
     "output_type": "execute_result"
    },
    {
     "data": {
      "image/png": "[encoded data removed]",
      "text/plain": [
       "<matplotlib.figure.Figure at 0x107f6b588>"
      ]
     },
     "metadata": {},
     "output_type": "display_data"
    }
   ],
   "source": [
    "contour_plot.contour(sampler_Ey.chain[:,:,:].reshape([50*2000,2]), [0,1], smooth=2e5)\n",
    "plt.plot(m,p,'+k')"
   ]
  },
  {
   "cell_type": "markdown",
   "metadata": {
    "collapsed": false
   },
   "source": [
    "<h3>II.b. Considering errors along both axis</h3>"
   ]
  },
  {
   "cell_type": "code",
   "execution_count": 18,
   "metadata": {
    "collapsed": true
   },
   "outputs": [],
   "source": [
    "### Log Likelihood ###\n",
    "\n",
    "def lnlkl(p, x, y):\n",
    "    y_model = p[0]*x + p[1]\n",
    "    return -0.5 * np.nansum(np.divide(np.power(y-y_model,2), (1+p[0]**2)) + np.log(2*np.pi*(1+p[0]**2)))\n",
    "\n",
    "def lnprob(p, x, y):\n",
    "    lpm = lnprior_m(p[0])\n",
    "    lpp = lnprior_p(p[1])\n",
    "    if not np.isfinite(lpm) or not np.isfinite(lpp):\n",
    "        return -np.inf\n",
    "    return lpm + lpp + lnlkl(p, x, y)"
   ]
  },
  {
   "cell_type": "code",
   "execution_count": 19,
   "metadata": {
    "collapsed": false
   },
   "outputs": [],
   "source": [
    "### Ensemble Method ###\n",
    "n_walker=50\n",
    "n_steps=2000\n",
    "ndim=2\n",
    "\n",
    "# Wakers initial positions\n",
    "pos0 = np.c_[np.random.rand(n_walker)-0.5,np.random.rand(n_walker)-0.5]\n",
    "\n",
    "sampler_Exy = emcee.EnsembleSampler(n_walker, ndim, lnprob, args=(x,y))\n",
    "pos,_,_=sampler_Exy.run_mcmc(pos0 = pos0 , N=100)\n",
    "sampler_Exy.reset()\n",
    "_=sampler_Exy.run_mcmc(pos0 = pos , N=n_steps)"
   ]
  },
  {
   "cell_type": "code",
   "execution_count": 20,
   "metadata": {
    "collapsed": false
   },
   "outputs": [
    {
     "data": {
      "text/plain": [
       "[<matplotlib.lines.Line2D at 0x108bbf588>]"
      ]
     },
     "execution_count": 20,
     "metadata": {},
     "output_type": "execute_result"
    },
    {
     "data": {
      "image/png": "[encoded data removed]",
      "text/plain": [
       "<matplotlib.figure.Figure at 0x107ad7d68>"
      ]
     },
     "metadata": {},
     "output_type": "display_data"
    }
   ],
   "source": [
    "contour_plot.contour(sampler_Exy.chain[:,:,:].reshape([50*2000,2]), [0,1], smooth=2e5)\n",
    "contour_plot.contour(sampler_Ey.chain[:,:,:].reshape([50*2000,2]), [0,1], smooth=2e5,line=True, col='k')\n",
    "plt.plot(m,p,'+k')"
   ]
  },
  {
   "cell_type": "code",
   "execution_count": null,
   "metadata": {
    "collapsed": true
   },
   "outputs": [],
   "source": []
  }
 ],
 "metadata": {
  "kernelspec": {
   "display_name": "Python 3",
   "language": "python",
   "name": "python3"
  },
  "language_info": {
   "codemirror_mode": {
    "name": "ipython",
    "version": 3
   },
   "file_extension": ".py",
   "mimetype": "text/x-python",
   "name": "python",
   "nbconvert_exporter": "python",
   "pygments_lexer": "ipython3",
   "version": "3.5.2"
  }
 },
 "nbformat": 4,
 "nbformat_minor": 1
}
