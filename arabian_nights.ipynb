{
 "cells": [
  {
   "cell_type": "code",
   "execution_count": 1,
   "metadata": {
    "collapsed": false,
    "scrolled": true
   },
   "outputs": [],
   "source": [
    "from __future__ import division, print_function\n",
    "import numpy as np\n",
    "import matplotlib.pyplot as plt\n",
    "import emcee\n",
    "from scipy.integrate import quad\n",
    "from scipy import interpolate\n",
    "from chain_analysis import contour_plot, gelman_rubin\n",
    "import time\n",
    "%matplotlib nbagg\n",
    "%load_ext autoreload"
   ]
  },
  {
   "cell_type": "code",
   "execution_count": 2,
   "metadata": {
    "collapsed": true
   },
   "outputs": [],
   "source": [
    "c=2.99792e5\n",
    "mu_err = 0.2\n",
    "fiducial_cos = np.array([0.31, -1, 67.74])"
   ]
  },
  {
   "cell_type": "code",
   "execution_count": 3,
   "metadata": {
    "collapsed": true
   },
   "outputs": [],
   "source": [
    "def func(z, om_m, w):\n",
    "    \"\"\"Function to integrate in computing d_L\"\"\"\n",
    "    return (om_m*(1+z)**3.0+(1-om_m)*(1+z)**(3*(w+1)))**(-0.5)\n",
    "\n",
    "\n",
    "def dist(z, om_m, w, H0):\n",
    "    \"\"\"Compute distance modulus for an array of redshifts\"\"\"\n",
    "    mu=[]\n",
    "    for k in range(len(z)):\n",
    "        y, yerr = quad(func,0.0,z[k],args=(om_m, w))\n",
    "        d = c*(1.0+z[k])/H0*y\n",
    "        \n",
    "        mu.append(5.0*np.log10(d) + 25.0)\n",
    "    return np.array(mu)"
   ]
  },
  {
   "cell_type": "code",
   "execution_count": 4,
   "metadata": {
    "collapsed": true
   },
   "outputs": [],
   "source": [
    "def cos_prior(p):\n",
    "    \"\"\"Apply a flat prior to cosmological parameters\"\"\"\n",
    "    bounds = [[0, 1], [-6, 4], [10, 200]]\n",
    "    for i in range(len(bounds)):\n",
    "        if p[i]< bounds[i][0] or p[i] > bounds[i][1]:\n",
    "            return False\n",
    "    return True\n",
    "\n",
    "def z_prior(p):\n",
    "    \"\"\"Apply a flat prior for all redshifts in array\"\"\"\n",
    "    z_bound = [0, 1.4]\n",
    "    for i in range(len(p)):\n",
    "        if p[i]<z_bound[0] or p[i]>z_bound[1]:\n",
    "            return False\n",
    "    return True"
   ]
  },
  {
   "cell_type": "code",
   "execution_count": 5,
   "metadata": {
    "collapsed": true
   },
   "outputs": [],
   "source": [
    "def lnprob_std(p, dat):\n",
    "    \"\"\"\n",
    "    ln(posterior probability) function. Combines likelihood and prior.\n",
    "    Parameters\n",
    "    ----------\n",
    "    p : list or np.array\n",
    "        Array of parameters\n",
    "    dat : np.array\n",
    "        Data in the form first column redshift, second column mu    \n",
    "\n",
    "    Returns\n",
    "    -------\n",
    "    log(posterior) : float\n",
    "    \n",
    "    \"\"\"\n",
    "    if not cos_prior(p):\n",
    "        return -1e130\n",
    "    \n",
    "    om_m, w,  H0 = p[:3]\n",
    "    z_spl = np.linspace(min(dat[:, 0]), max(dat[:, 0]),50)\n",
    "    y_spl = dist(z_spl, om_m, w, H0)\n",
    "    spline = interpolate.splrep(z_spl, y_spl)\n",
    "    \n",
    "    mu_fit = interpolate.splev(dat[:,0], spline)\n",
    "    \n",
    "    chi2 = np.sum(((dat[:,1]-mu_fit)/dat[:,2])**2)\n",
    "    return -0.5*chi2\n",
    "\n",
    "def lnprob_zbeams(p, dat, z_err, inds):\n",
    "    \"\"\"\n",
    "    ln(posterior probability) function. Combines likelihood and prior.\n",
    "    Parameters\n",
    "    ----------\n",
    "    p : list or np.array\n",
    "        Array of parameters\n",
    "    dat : np.array\n",
    "        Data in the form first column redshift, second column mu\n",
    "    z_err : np.array\n",
    "        Array of redshift errors (assumed to be gaussian)\n",
    "    inds : list, optional\n",
    "        Pass a list of indices if you don't want to vary the redshift of every object\n",
    "\n",
    "    Returns\n",
    "    -------\n",
    "    log(posterior) : float\n",
    "    \n",
    "    \"\"\"\n",
    "    om_m, w,  H0 = p[:3]\n",
    "    \n",
    "    if len(inds)==0:\n",
    "        Z = p[3:]\n",
    "        inds = np.arange(len(dat[:,0]))\n",
    "    else:\n",
    "        Z = dat[:,0].copy()\n",
    "        Z[inds] = p[3:]\n",
    "    \n",
    "    if not cos_prior(p[:3]) or not  z_prior(Z):\n",
    "        return -1e130  \n",
    "    \n",
    "    z_spl = np.linspace(min(Z), max(Z),50)\n",
    "    y_spl = dist(z_spl, om_m, w, H0)\n",
    "    spline = interpolate.splrep(z_spl, y_spl)\n",
    "    \n",
    "    mu_fit = interpolate.splev(Z, spline)\n",
    "    \n",
    "    chi2_mu = np.sum(((dat[:,1]-mu_fit)/dat[:,2])**2)\n",
    "    chi2_z = np.sum(((dat[inds,0]-Z[inds])/z_err[inds])**2)\n",
    "    \n",
    "    #print(chi2_mu, chi2_z)\n",
    "    \n",
    "    \n",
    "    return -0.5*(chi2_mu + chi2_z)"
   ]
  },
  {
   "cell_type": "code",
   "execution_count": 6,
   "metadata": {
    "collapsed": true
   },
   "outputs": [],
   "source": [
    "def make_data(N, mu_err=0.2, zmin=0.015, zmax=1, om_m=0.31, w=-1, H0=67.74):\n",
    "    \"\"\"Little function to generate dataset\"\"\"\n",
    "    z = np.random.uniform(zmin, zmax, N)\n",
    "    mu = dist(z, om_m, w, H0)\n",
    "    mu += np.random.randn(N)*0\n",
    "    \n",
    "    return np.column_stack((z, mu, [mu_err]*len(z)))"
   ]
  },
  {
   "cell_type": "code",
   "execution_count": 7,
   "metadata": {
    "collapsed": false
   },
   "outputs": [],
   "source": [
    "def corrupt_redshifts(data, delta_z, inds=[]):\n",
    "    \"\"\"Corrupts the redshifts of existing data\n",
    "    z_err = delta_z * (1+z)\"\"\"\n",
    "    z = data[:,0].copy()\n",
    "    if len(inds) == 0:\n",
    "        inds = np.arange(len(z))\n",
    "    z_err = np.zeros(len(z))\n",
    "    z_err[inds] = delta_z * (1+z[inds])\n",
    "    \n",
    "    z += np.random.randn(len(z))*z_err\n",
    "    return np.column_stack((z, data[:,1], data[:,2]))"
   ]
  },
  {
   "cell_type": "code",
   "execution_count": 8,
   "metadata": {
    "collapsed": false
   },
   "outputs": [],
   "source": [
    "def run_chain(lnprob=lnprob_std, start_point=[0.31, -1, 67.74], proposal_spread=[0.05, 0.05, 5.],\n",
    "             nwalkers=250, ndim=3, args=[]):\n",
    "    \"\"\"Function to run emcee on a dataset (suppied in args)\"\"\"\n",
    "    t1 = time.time()\n",
    "    p0 = np.random.rand(ndim * nwalkers).reshape((nwalkers, ndim))*np.array(proposal_spread) + np.array(start_point)\n",
    "    sampler = emcee.EnsembleSampler(nwalkers, ndim, lnprob, args=args)\n",
    "    pos, prob, state = sampler.run_mcmc(p0, 50)\n",
    "    sampler.reset()\n",
    "    pos, prob, state = sampler.run_mcmc(pos, 100)\n",
    "    print('Time taken', time.time() - t1)\n",
    "    print('Average acceptance ratio', sampler.acceptance_fraction.mean())\n",
    "    return sampler.flatchain"
   ]
  },
  {
   "cell_type": "markdown",
   "metadata": {},
   "source": [
    "## Checking we can reproduce ordinary SNIa cosmology with emcee"
   ]
  },
  {
   "cell_type": "code",
   "execution_count": 9,
   "metadata": {
    "collapsed": false
   },
   "outputs": [],
   "source": [
    "dat = make_data(1000)\n",
    "dat = np.column_stack((dat[:,0], dat[:,1], [mu_err]*len(dat)))"
   ]
  },
  {
   "cell_type": "code",
   "execution_count": null,
   "metadata": {
    "collapsed": true
   },
   "outputs": [],
   "source": []
  },
  {
   "cell_type": "code",
   "execution_count": 10,
   "metadata": {
    "collapsed": false
   },
   "outputs": [
    {
     "name": "stdout",
     "output_type": "stream",
     "text": [
      "Time taken 92.26757407188416\n",
      "Average acceptance ratio 0.56136\n",
      "Time taken 95.90998816490173\n",
      "Average acceptance ratio 0.54856\n",
      "Time taken 92.0663001537323\n",
      "Average acceptance ratio 0.55468\n"
     ]
    }
   ],
   "source": [
    "chain1 = run_chain(args=[dat])\n",
    "chain2 = run_chain(args=[dat])\n",
    "chain3 = run_chain(args=[dat])"
   ]
  },
  {
   "cell_type": "code",
   "execution_count": null,
   "metadata": {
    "collapsed": false
   },
   "outputs": [],
   "source": [
    "step = gelman_rubin.converge_from_list([chain1, chain2, chain3])\n",
    "print('Converged after', step, 'steps')"
   ]
  },
  {
   "cell_type": "code",
   "execution_count": null,
   "metadata": {
    "collapsed": false
   },
   "outputs": [],
   "source": [
    "plt.figure()\n",
    "smth = 3e4\n",
    "contour_plot.contour(chain1[10000:,:], [0,1], smooth=smth)\n",
    "plt.plot(fiducial_cos[0], fiducial_cos[1], 'ok')"
   ]
  },
  {
   "cell_type": "markdown",
   "metadata": {},
   "source": [
    "## Arabian Nights"
   ]
  },
  {
   "cell_type": "code",
   "execution_count": null,
   "metadata": {
    "collapsed": false
   },
   "outputs": [],
   "source": [
    "nz = 5\n",
    "dat = make_data(998, mu_err=0.2)\n",
    "\n",
    "z_err = 0.04*(1+dat[:,0])\n",
    "inds = np.random.choice(np.arange(len(dat)), nz, replace=False)\n",
    "print(inds)"
   ]
  },
  {
   "cell_type": "code",
   "execution_count": null,
   "metadata": {
    "collapsed": false
   },
   "outputs": [],
   "source": [
    "new_dat = corrupt_redshifts(dat, 0.04, inds=inds)"
   ]
  },
  {
   "cell_type": "code",
   "execution_count": null,
   "metadata": {
    "collapsed": false
   },
   "outputs": [],
   "source": [
    "plt.figure()\n",
    "plt.plot(dat[:, 0], dat[:, 0] - new_dat[:,0], '.b')\n",
    "#plt.plot(new_dat[:, 0], new_dat[:, 1], '.r')\n",
    "plt.xlabel('z')\n",
    "plt.ylabel('delta z')"
   ]
  },
  {
   "cell_type": "code",
   "execution_count": null,
   "metadata": {
    "collapsed": true
   },
   "outputs": [],
   "source": [
    "start_point = np.hstack((fiducial_cos, new_dat[inds,0]))\n",
    "proposal_spread = np.hstack(([0.05, 0.05, 5.], z_err[inds]))\n",
    "ndim = 3 + len(inds)\n",
    "nwalkers = max((2*ndim, 250))"
   ]
  },
  {
   "cell_type": "code",
   "execution_count": null,
   "metadata": {
    "collapsed": false
   },
   "outputs": [],
   "source": [
    "chain1 = run_chain(args=[dat, z_err, inds], ndim=ndim, nwalkers=nwalkers, lnprob=lnprob_zbeams, \n",
    "                   start_point=start_point, proposal_spread=proposal_spread)"
   ]
  },
  {
   "cell_type": "code",
   "execution_count": null,
   "metadata": {
    "collapsed": false
   },
   "outputs": [],
   "source": [
    "chain_std = run_chain(args=[dat]) # Compare with contours of standard method"
   ]
  },
  {
   "cell_type": "code",
   "execution_count": null,
   "metadata": {
    "collapsed": false
   },
   "outputs": [],
   "source": [
    "plt.figure()\n",
    "smth = 8e4\n",
    "contour_plot.contour(chain1[:,:], [0,1], smooth=smth)\n",
    "contour_plot.contour(chain_std[:,:], [0,1], smooth=smth, line=True, col='k')\n",
    "plt.plot(fiducial_cos[0], fiducial_cos[1], 'ok')"
   ]
  },
  {
   "cell_type": "code",
   "execution_count": null,
   "metadata": {
    "collapsed": true
   },
   "outputs": [],
   "source": []
  }
 ],
 "metadata": {
  "anaconda-cloud": {},
  "kernelspec": {
   "display_name": "Python 3",
   "language": "python",
   "name": "python3"
  },
  "language_info": {
   "codemirror_mode": {
    "name": "ipython",
    "version": 3
   },
   "file_extension": ".py",
   "mimetype": "text/x-python",
   "name": "python",
   "nbconvert_exporter": "python",
   "pygments_lexer": "ipython3",
   "version": "3.5.1"
  }
 },
 "nbformat": 4,
 "nbformat_minor": 0
}
